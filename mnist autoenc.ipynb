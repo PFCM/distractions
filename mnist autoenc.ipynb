{
 "cells": [
  {
   "cell_type": "code",
   "execution_count": 1,
   "metadata": {
    "collapsed": false
   },
   "outputs": [],
   "source": [
    "%matplotlib inline\n",
    "\n",
    "import matplotlib.pyplot as plt\n",
    "\n",
    "import os\n",
    "import gzip\n",
    "\n",
    "import numpy as np\n",
    "import tensorflow as tf\n",
    "\n",
    "import rnndatasets.sequentialmnist as sm"
   ]
  },
  {
   "cell_type": "code",
   "execution_count": 2,
   "metadata": {
    "collapsed": false
   },
   "outputs": [
    {
     "name": "stdout",
     "output_type": "stream",
     "text": [
      "5000\n"
     ]
    }
   ],
   "source": [
    "data, labels = sm.get_data('train', 5000)\n",
    "print(len(data))"
   ]
  },
  {
   "cell_type": "code",
   "execution_count": 3,
   "metadata": {
    "collapsed": false
   },
   "outputs": [],
   "source": [
    "def autoencoder_forward(input_var, shape, nonlinearity, tied=True, scope=None):\n",
    "    \"\"\"build an autoencoder. `shape` should be a list of\n",
    "    layer sizes. If tied is True, then we will go through shape twice,\n",
    "    once forward and once backwards to build the net. Assumes first entry\n",
    "    of `shape` is the size of the inputs\n",
    "    Returns a list of outputs for each layer, outputs[-1] is the \n",
    "    output of the whole net.\n",
    "    \"\"\"\n",
    "    def affine(name, input_, input_size, layer_size,\n",
    "               transpose_W=False):\n",
    "        if not transpose_W:  # normal feedforward\n",
    "            weights = tf.get_variable(name+'_W', [input_size, layer_size])\n",
    "            bias = tf.get_variable(name+'_b', [layer_size],\n",
    "                                  initializer=tf.zeros_initializer)\n",
    "        else:  # do the weights backwards to make sure we get the same var\n",
    "            weights = tf.get_variable(name+'_W', [layer_size, input_size])\n",
    "            # and give the bias a different name\n",
    "            # somehow it seems that this is not correct to have a fresh\n",
    "            # bias each time\n",
    "            bias = tf.Variable(tf.zeros([layer_size]), name=name+'_other_b')\n",
    "            weights = tf.transpose(weights)\n",
    "        return tf.nn.bias_add(tf.matmul(input_, weights), bias)\n",
    "    \n",
    "    with tf.variable_scope(scope or 'autoencoder') as scope:\n",
    "        # we have to at least go forward once\n",
    "        in_size = shape[0]\n",
    "        layer_input = input_var\n",
    "        net_outs = []\n",
    "        for i, layer_size in enumerate(shape[1:]):\n",
    "            print('{}: ({}, {})'.format(i, layer_size, in_size))\n",
    "            layer_input = nonlinearity(affine(\n",
    "                'layer-{}'.format(i),\n",
    "                layer_input,\n",
    "                in_size,\n",
    "                layer_size))\n",
    "            net_outs.append(layer_input)\n",
    "            in_size = layer_size\n",
    "        if tied:\n",
    "            # do it all again\n",
    "            scope.reuse_variables()\n",
    "            for i, layer_size in reversed(list(enumerate(shape[:-1]))):\n",
    "                print('{}: ({}, {})'.format(i, layer_size, in_size))\n",
    "                layer_input = nonlinearity(affine(\n",
    "                    'layer-{}'.format(i),  # important these match up\n",
    "                    layer_input,\n",
    "                    in_size,\n",
    "                    layer_size,\n",
    "                    True))\n",
    "                in_size = layer_size\n",
    "                net_outs.append(layer_input)\n",
    "        return net_outs"
   ]
  },
  {
   "cell_type": "code",
   "execution_count": 4,
   "metadata": {
    "collapsed": true
   },
   "outputs": [],
   "source": [
    "def get_loss_op(net_out, target):\n",
    "    \"\"\"Gets MSE between two guys\"\"\"\n",
    "    return tf.reduce_mean(tf.square(net_out - target))\n",
    "\n",
    "def get_train_op(loss_op, learning_rate, momentum):\n",
    "    \"\"\"Gets an op to minimise everything in the \n",
    "    set of trainable variables\"\"\"\n",
    "    tvars = tf.trainable_variables()\n",
    "    opt = tf.train.MomentumOptimizer(learning_rate, momentum)\n",
    "    grads = opt.compute_gradients(loss_op, tvars)\n",
    "    g_norm = tf.global_norm([grad for grad, var in grads])\n",
    "    return opt.apply_gradients(grads), g_norm"
   ]
  },
  {
   "cell_type": "code",
   "execution_count": 5,
   "metadata": {
    "collapsed": true
   },
   "outputs": [],
   "source": [
    "def batch_iter(data, batch_size):\n",
    "    num_batches = data.shape[0] // batch_size\n",
    "    \n",
    "    for i in range(num_batches):\n",
    "        yield data[i*batch_size:(i+1)*batch_size, ...]"
   ]
  },
  {
   "cell_type": "code",
   "execution_count": 6,
   "metadata": {
    "collapsed": false
   },
   "outputs": [
    {
     "name": "stdout",
     "output_type": "stream",
     "text": [
      "0: (100, 784)\n",
      "0: (784, 100)\n"
     ]
    }
   ],
   "source": [
    "tf.reset_default_graph()  # key\n",
    "\n",
    "# let's do some actual stuff\n",
    "BATCH_SIZE = 100\n",
    "SHAPE = [28*28, 100]\n",
    "\n",
    "inputs = tf.placeholder(tf.float32, name='inputs', shape=[BATCH_SIZE, data.shape[1]])\n",
    "autoenc_outs = autoencoder_forward(\n",
    "    inputs, SHAPE, tf.nn.relu, tied=True)\n",
    "\n",
    "learning_rate = tf.Variable(0.2, name='lr')\n",
    "momentum = tf.Variable(0.8, name='mom')\n",
    "\n",
    "loss_op = get_loss_op(autoenc_outs[-1], inputs)\n",
    "train_op, grad_norm = get_train_op(loss_op, learning_rate, momentum)"
   ]
  },
  {
   "cell_type": "code",
   "execution_count": 7,
   "metadata": {
    "collapsed": false
   },
   "outputs": [
    {
     "name": "stdout",
     "output_type": "stream",
     "text": [
      "...initialising...\n",
      "done\n"
     ]
    }
   ],
   "source": [
    "# get ready to go\n",
    "sess = tf.InteractiveSession()\n",
    "print('...initialising...')\n",
    "sess.run(tf.initialize_all_variables())\n",
    "print('done')"
   ]
  },
  {
   "cell_type": "code",
   "execution_count": null,
   "metadata": {
    "collapsed": false
   },
   "outputs": [
    {
     "name": "stdout",
     "output_type": "stream",
     "text": [
      "Epoch 10: loss 0.2110486873984337, norm 0.008031072579324245\n",
      "Epoch 20: loss 0.2111145278811455, norm 0.008617435591295361\n",
      "Epoch 30: loss 0.2111497575044632, norm 0.008764382489025592\n",
      "Epoch 40: loss 0.21117499113082885, norm 0.008618604075163603\n",
      "Epoch 50: loss 0.21118448317050934, norm 0.008542897757142781\n",
      "Epoch 60: loss 0.211205475628376, norm 0.008577009458094835\n",
      "Epoch 70: loss 0.2111969009041786, norm 0.008334436286240816\n",
      "Epoch 80: loss 0.21118653297424317, norm 0.008174473820254206\n",
      "0.21126 -- 0.00820"
     ]
    }
   ],
   "source": [
    "# actually train\n",
    "NUM_EPOCHS = 1000\n",
    "\n",
    "sess.run(learning_rate.assign(.1))\n",
    "sess.run(momentum.assign(0.999))\n",
    "\n",
    "for epoch in range(NUM_EPOCHS):\n",
    "    total_loss = 0\n",
    "    np.random.shuffle(data)\n",
    "    num_steps = 0\n",
    "    total_grad_norm = 0\n",
    "    for i, batch in enumerate(batch_iter(data, BATCH_SIZE)):\n",
    "        batch_loss, _, batch_grad_norm = sess.run(\n",
    "             [loss_op, train_op, grad_norm],\n",
    "             {inputs: batch.reshape((BATCH_SIZE, -1))})\n",
    "        total_loss += batch_loss\n",
    "        total_grad_norm += batch_grad_norm\n",
    "        num_steps += 1\n",
    "        if i % 10 == 0:\n",
    "            print('\\r{:.5f} -- {:.5f}'.format(batch_loss, batch_grad_norm), end='')\n",
    "    if (epoch+1) % 10 == 0:\n",
    "        print('                               '\n",
    "              '\\rEpoch {}: loss {}, norm {}'.format(epoch+1, total_loss/num_steps, total_grad_norm/num_steps))"
   ]
  },
  {
   "cell_type": "code",
   "execution_count": 20,
   "metadata": {
    "collapsed": false
   },
   "outputs": [
    {
     "data": {
      "text/plain": [
       "<matplotlib.image.AxesImage at 0x1185927f0>"
      ]
     },
     "execution_count": 20,
     "metadata": {},
     "output_type": "execute_result"
    },
    {
     "data": {
      "image/png": "[encoded data removed]",
      "text/plain": [
       "<matplotlib.figure.Figure at 0x113860438>"
      ]
     },
     "metadata": {},
     "output_type": "display_data"
    }
   ],
   "source": [
    "# how about plotting a couple\n",
    "ims = sess.run(autoenc_outs[-1], {inputs: data[:BATCH_SIZE, ...].reshape((BATCH_SIZE,-1))})\n",
    "\n",
    "plt.figure(figsize=(10,10))\n",
    "plt.subplot(221)\n",
    "plt.imshow(data[0,...].reshape((28,28)), cmap='Greys_r', interpolation='nearest')\n",
    "\n",
    "plt.subplot(222)\n",
    "plt.imshow(ims[0,...].reshape((28,28)), cmap='Greys_r', interpolation='nearest')\n",
    "\n",
    "plt.subplot(223)\n",
    "plt.imshow(data[1,...].reshape((28,28)), cmap='Greys_r', interpolation='nearest')\n",
    "\n",
    "plt.subplot(224)\n",
    "plt.imshow(ims[1,...].reshape((28,28)), cmap='Greys_r', interpolation='nearest')"
   ]
  },
  {
   "cell_type": "code",
   "execution_count": null,
   "metadata": {
    "collapsed": true
   },
   "outputs": [],
   "source": []
  }
 ],
 "metadata": {
  "kernelspec": {
   "display_name": "Python 3",
   "language": "python",
   "name": "python3"
  },
  "language_info": {
   "codemirror_mode": {
    "name": "ipython",
    "version": 3
   },
   "file_extension": ".py",
   "mimetype": "text/x-python",
   "name": "python",
   "nbconvert_exporter": "python",
   "pygments_lexer": "ipython3",
   "version": "3.5.0"
  }
 },
 "nbformat": 4,
 "nbformat_minor": 0
}
