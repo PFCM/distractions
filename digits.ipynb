{
 "cells": [
  {
   "cell_type": "code",
   "execution_count": 48,
   "metadata": {
    "collapsed": true
   },
   "outputs": [],
   "source": [
    "%matplotlib inline\n",
    "import numpy as np\n",
    "import tensorflow as tf\n",
    "from sklearn import datasets\n",
    "\n",
    "import matplotlib.pyplot as plt\n",
    "\n",
    "\n",
    "batch_size = 5"
   ]
  },
  {
   "cell_type": "code",
   "execution_count": 49,
   "metadata": {
    "collapsed": false
   },
   "outputs": [
    {
     "name": "stdout",
     "output_type": "stream",
     "text": [
      "(1700, 64)\n"
     ]
    },
    {
     "data": {
      "image/png": "[encoded data removed]",
      "text/plain": [
       "<matplotlib.figure.Figure at 0x7f771c7a46d8>"
      ]
     },
     "metadata": {},
     "output_type": "display_data"
    }
   ],
   "source": [
    "digits = datasets.load_digits()\n",
    "plt.imshow(digits.images[batch_size//2], interpolation='nearest', cmap='Greys')\n",
    "digits.images = digits.images.reshape((-1, 8*8))[:1700,...]  # round number\n",
    "print(digits.images.shape)"
   ]
  },
  {
   "cell_type": "code",
   "execution_count": 56,
   "metadata": {
    "collapsed": false
   },
   "outputs": [
    {
     "name": "stdout",
     "output_type": "stream",
     "text": [
      "0.0040990146808326244"
     ]
    },
    {
     "data": {
      "text/plain": [
       "<matplotlib.collections.PathCollection at 0x7f77342b2128>"
      ]
     },
     "execution_count": 56,
     "metadata": {},
     "output_type": "execute_result"
    },
    {
     "data": {
      "image/png": "[encoded data removed]",
      "text/plain": [
       "<matplotlib.figure.Figure at 0x7f77341392e8>"
      ]
     },
     "metadata": {},
     "output_type": "display_data"
    }
   ],
   "source": [
    "tf.reset_default_graph()\n",
    "# get the data in\n",
    "all_images = tf.Variable(digits.images, trainable=False, dtype=tf.float32)\n",
    "image_producer = tf.train.slice_input_producer([all_images], \n",
    "                                               num_epochs=100,\n",
    "                                               shuffle=True,\n",
    "                                               capacity=3*batch_size)\n",
    "image_batch = tf.train.batch(image_producer, batch_size)\n",
    "sess = tf.Session()#build computational graph\n",
    "\n",
    "W = tf.get_variable('weights',\n",
    "                    shape=[8*8, 64],  # can it learn the identity?\n",
    "                   initializer=tf.uniform_unit_scaling_initializer(1.0))\n",
    "mid = tf.matmul(image_batch, W)\n",
    "# mid = tf.nn.tanh(mid)\n",
    "recon = tf.matmul(mid, tf.transpose(W))\n",
    "\n",
    "#set up loss and optimiser\n",
    "loss = tf.reduce_mean((image_batch - recon)**2)\n",
    "train_step = tf.train.GradientDescentOptimizer(0.001).minimize(loss)\n",
    "\n",
    "sess.run(tf.initialize_all_variables())\n",
    "\n",
    "coord = tf.train.Coordinator()\n",
    "threads = tf.train.start_queue_runners(sess=sess, coord=coord)\n",
    "\n",
    "try:\n",
    "    step = 0\n",
    "    while not coord.should_stop():\n",
    "        _, loss_val = sess.run([train_step, loss])\n",
    "        if step % 100 == 1:\n",
    "            print('\\r{}'.format(loss_val), end='', flush=True)\n",
    "        step += 1\n",
    "except tf.errors.OutOfRangeError:\n",
    "    print('Done {} steps'.format(step))\n",
    "finally:\n",
    "    coord.request_stop\n",
    "\n",
    "dim_red = sess.run(mid,feed_dict = {image_batch: digits.images[:batch_size,...]})\n",
    "plt.scatter(dim_red[:,0],dim_red[:,1])"
   ]
  },
  {
   "cell_type": "code",
   "execution_count": 57,
   "metadata": {
    "collapsed": false,
    "scrolled": true
   },
   "outputs": [
    {
     "data": {
      "text/plain": [
       "<matplotlib.image.AxesImage at 0x7f771c3aa518>"
      ]
     },
     "execution_count": 57,
     "metadata": {},
     "output_type": "execute_result"
    },
    {
     "data": {
      "image/png": "[encoded data removed]",
      "text/plain": [
       "<matplotlib.figure.Figure at 0x7f77340ab080>"
      ]
     },
     "metadata": {},
     "output_type": "display_data"
    }
   ],
   "source": [
    "plt.imshow(sess.run(recon, feed_dict={image_batch: digits.images[:batch_size,...]})[batch_size//2].reshape((8,8)), \n",
    "           interpolation='nearest',\n",
    "           cmap='Greys')"
   ]
  },
  {
   "cell_type": "code",
   "execution_count": 58,
   "metadata": {
    "collapsed": false
   },
   "outputs": [
    {
     "data": {
      "text/plain": [
       "<matplotlib.image.AxesImage at 0x7f771c310ba8>"
      ]
     },
     "execution_count": 58,
     "metadata": {},
     "output_type": "execute_result"
    },
    {
     "data": {
      "image/png": "[encoded data removed]",
      "text/plain": [
       "<matplotlib.figure.Figure at 0x7f77340a19b0>"
      ]
     },
     "metadata": {},
     "output_type": "display_data"
    }
   ],
   "source": [
    "plt.imshow(sess.run(W)[:,0].reshape((8,8)), cmap='Greys', interpolation='nearest')"
   ]
  },
  {
   "cell_type": "code",
   "execution_count": null,
   "metadata": {
    "collapsed": true
   },
   "outputs": [],
   "source": []
  }
 ],
 "metadata": {
  "kernelspec": {
   "display_name": "Python 3",
   "language": "python",
   "name": "python3"
  },
  "language_info": {
   "codemirror_mode": {
    "name": "ipython",
    "version": 3
   },
   "file_extension": ".py",
   "mimetype": "text/x-python",
   "name": "python",
   "nbconvert_exporter": "python",
   "pygments_lexer": "ipython3",
   "version": "3.5.1"
  }
 },
 "nbformat": 4,
 "nbformat_minor": 0
}
