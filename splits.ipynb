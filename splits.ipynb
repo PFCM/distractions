{
 "cells": [
  {
   "cell_type": "code",
   "execution_count": 1,
   "metadata": {
    "collapsed": true
   },
   "outputs": [],
   "source": [
    "%matplotlib inline\n",
    "import matplotlib.pyplot as plt\n",
    "import numpy as np\n",
    "import tensorflow as tf\n",
    "\n",
    "from contextlib import contextmanager\n",
    "\n",
    "from rnndatasets import sequentialmnist as mnist\n",
    "\n",
    "from itertools import chain"
   ]
  },
  {
   "cell_type": "markdown",
   "metadata": {},
   "source": [
    "Can we make a network that starts small and grows by splitting its layers?"
   ]
  },
  {
   "cell_type": "code",
   "execution_count": 2,
   "metadata": {
    "collapsed": true
   },
   "outputs": [],
   "source": [
    "@contextmanager\n",
    "def new_collection(name):\n",
    "    old_tvars = tf.trainable_variables()\n",
    "    yield\n",
    "    for var in tf.trainable_variables():\n",
    "        if var not in old_tvars:\n",
    "            tf.add_to_collection(name, var)"
   ]
  },
  {
   "cell_type": "code",
   "execution_count": 3,
   "metadata": {
    "collapsed": true
   },
   "outputs": [],
   "source": [
    "def affine(input_var, new_size, weights_initialiser=None, bias_initialiser=None, return_weights=False):\n",
    "    input_size = input_var.get_shape()[1].value\n",
    "    \n",
    "    if type(weights_initialiser) == np.ndarray:\n",
    "        weight_shape = None\n",
    "    else:\n",
    "        weight_shape = [input_size, new_size]\n",
    "    \n",
    "    if type(bias_initialiser) == np.ndarray:\n",
    "        bias_shape = None\n",
    "    else:\n",
    "        bias_shape = [new_size]\n",
    "    \n",
    "    weights = tf.get_variable('weights', weight_shape,\n",
    "                             initializer=weights_initialiser)\n",
    "    bias = tf.get_variable('bias', bias_shape,\n",
    "                           initializer=bias_initialiser)\n",
    "    results = tf.nn.bias_add(tf.matmul(input_var, weights), bias)\n",
    "    \n",
    "    if return_weights:\n",
    "        return results, (weights, bias)\n",
    "    return results"
   ]
  },
  {
   "cell_type": "code",
   "execution_count": 4,
   "metadata": {
    "collapsed": true
   },
   "outputs": [],
   "source": [
    "def initial_net(input_var, output_shape):\n",
    "    return affine(input_var, output_shape)"
   ]
  },
  {
   "cell_type": "code",
   "execution_count": 5,
   "metadata": {
    "collapsed": true
   },
   "outputs": [],
   "source": [
    "def batch_iter(data, labels, batch_size):\n",
    "    num_batches = data.shape[0] // batch_size\n",
    "    \n",
    "    for i in range(num_batches):\n",
    "        yield data[i*batch_size:(i+1)*batch_size, ...], labels[i*batch_size:(i+1)*batch_size]"
   ]
  },
  {
   "cell_type": "code",
   "execution_count": 6,
   "metadata": {
    "collapsed": true
   },
   "outputs": [],
   "source": [
    "def lennox(activations, sess=None):\n",
    "    num_features = activations.get_shape()[1].value\n",
    "    a = tf.get_variable('a', [num_features], initializer=tf.constant_initializer(1.0))\n",
    "    b = tf.get_variable('b', [num_features], initializer=tf.constant_initializer(1.0))\n",
    "    c = tf.get_variable('c', [num_features], initializer=tf.constant_initializer(0.0))\n",
    "    \n",
    "    centered = activations - c\n",
    "    \n",
    "    return tf.select(centered > 0, a * centered, b * centered)"
   ]
  },
  {
   "cell_type": "code",
   "execution_count": 7,
   "metadata": {
    "collapsed": true
   },
   "outputs": [],
   "source": [
    "def get_metrics(net, targets):\n",
    "    loss = tf.nn.sparse_softmax_cross_entropy_with_logits(net, targets)\n",
    "    loss = tf.reduce_mean(loss)\n",
    "    acc = tf.contrib.metrics.accuracy(tf.cast(tf.argmax(net_out, 1), tf.int32),\n",
    "                                      targets)\n",
    "    return loss, acc\n",
    "\n",
    "def split(session, split_layer, output_layer, layer_in, targets, scope):\n",
    "    # figure out the new value in numpy to keep the graph clean\n",
    "    weights_var, bias_var = split_layer\n",
    "    weights_val, bias_val = session.run([weights_var, bias_var])\n",
    "    u, s, vT = np.linalg.svd(weights_val, full_matrices=False)\n",
    "    \n",
    "    with tf.variable_scope('model'):\n",
    "        with new_collection('weights'):\n",
    "            with tf.variable_scope(scope + '_split_1'):\n",
    "                split_in, hh_vars = affine(layer_in, len(s), weights_initialiser=np.dot(u, np.diag(s)), bias_initialiser=bias_val,\n",
    "                                                 return_weights=True)\n",
    "            with tf.variable_scope(scope + '_split_2'):\n",
    "                split_out, split_vars = affine(lennox(split_in), len(s), weights_initialiser=vT,\n",
    "                                             bias_initialiser=tf.constant_initializer(0.0), return_weights=True)\n",
    "        with tf.variable_scope('output', reuse=True):\n",
    "            net_out = affine(lennox(split_out), 10)\n",
    "        \n",
    "    loss, acc = get_metrics(net_out, targets)\n",
    "    \n",
    "    opt = tf.train.AdamOptimizer(0.001)\n",
    "    train_op = opt.minimize(loss)\n",
    "    \n",
    "    return train_op, split_vars, loss, acc, split_in\n",
    "    "
   ]
  },
  {
   "cell_type": "code",
   "execution_count": 10,
   "metadata": {
    "collapsed": false
   },
   "outputs": [],
   "source": [
    "tf.reset_default_graph()\n",
    "\n",
    "inputs = tf.placeholder(tf.float32, [None, 784])\n",
    "targets = tf.placeholder(tf.int32, [None])\n",
    "\n",
    "\n",
    "with tf.variable_scope('model'):\n",
    "    with new_collection('weights'):\n",
    "        net_out, split_layer = affine(inputs, 5, return_weights=True)\n",
    "        split_in = inputs\n",
    "        with tf.variable_scope('output'):\n",
    "            net_out, output_layer = affine(lennox(net_out), 10, return_weights=True)\n",
    "\n",
    "loss, acc = get_metrics(net_out, targets)\n",
    "\n",
    "opt = tf.train.AdamOptimizer(0.001)\n",
    "train_op = opt.minimize(loss, var_list=tf.get_collection('weights'))"
   ]
  },
  {
   "cell_type": "code",
   "execution_count": 11,
   "metadata": {
    "collapsed": false
   },
   "outputs": [
    {
     "name": "stdout",
     "output_type": "stream",
     "text": [
      "(0) ~~ 1.0487745669449795  (valid: 0)\n",
      "time to split\n",
      "(10) ~~ 0.40226175816355225  (valid: 0.7342748397435898)\n",
      "time to split\n",
      "(20) ~~ 0.3796907064532348  (valid: 0.5894431089743589)\n",
      "time to split\n",
      "(40) ~~ 0.361360213200582  (valid: 0.45262419871794873)\n",
      "time to split\n",
      "(80) ~~ 0.34535199890292406  (valid: 0.34485176282051283)\n",
      "time to split\n",
      "(160) ~~ 0.3173078372406746  (valid: 0.23297275641025642)\n",
      "time to split\n",
      "(320) ~~ 0.3010212542648963  (valid: 0.17878605769230768)\n",
      "time to split\n",
      "(499) ~~ 0.29460649229538427  (valid: 0.18609775641025642)"
     ]
    }
   ],
   "source": [
    "sess = tf.Session()\n",
    "sess.run(tf.initialize_all_variables())\n",
    "\n",
    "losses = []\n",
    "valid_losses = []\n",
    "\n",
    "num_splits = 0\n",
    "valid_loss = 0\n",
    "split_every = 5\n",
    "\n",
    "for epoch in range(500):\n",
    "    train, valid, test = mnist.get_iters(batch_size=64, shuffle=True)\n",
    "    \n",
    "    epoch_loss = 0\n",
    "    epoch_steps = 0\n",
    "    for dbatch, tbatch in train:\n",
    "        dbatch = dbatch.transpose((1, 0, 2))\n",
    "        batch_loss, _ = sess.run([loss, train_op],\n",
    "                                 {inputs: dbatch.reshape((-1, 784)),\n",
    "                                  targets: tbatch})\n",
    "        epoch_loss += batch_loss\n",
    "        epoch_steps += 1\n",
    "        \n",
    "    if (epoch % 5) == 1:\n",
    "        valid_loss = 0\n",
    "        valid_steps = 0\n",
    "        for dbatch, tbatch in valid:\n",
    "            dbatch = dbatch.transpose((1, 0, 2))\n",
    "            batch_loss = sess.run(acc,\n",
    "                                 {inputs: dbatch.reshape((-1, 784)),\n",
    "                                  targets: tbatch})\n",
    "            valid_loss += batch_loss\n",
    "            valid_steps += 1\n",
    "        valid_loss /= valid_steps\n",
    "        valid_losses.append(valid_loss)\n",
    "    \n",
    "    \n",
    "    print('\\r({}) ~~ {}  (valid: {})'.format(epoch, epoch_loss/epoch_steps, valid_loss), end='')\n",
    "    losses.append(epoch_loss/epoch_steps)\n",
    "    \n",
    "    if (epoch % split_every) == 0:\n",
    "        split_every *= 2\n",
    "        valid_loss = 100\n",
    "        print('\\ntime to split')\n",
    "        num_splits += 1\n",
    "        train_op, split_layer, loss, acc, split_in = split(\n",
    "            sess, split_layer, output_layer, split_in, targets, 'split_{}'.format(num_splits))\n",
    "        num_splits += 1\n",
    "        uninits = [var for var in tf.all_variables() if not sess.run(tf.is_variable_initialized(var))]\n",
    "        sess.run([var.initializer for var in uninits])"
   ]
  },
  {
   "cell_type": "code",
   "execution_count": 12,
   "metadata": {
    "collapsed": false
   },
   "outputs": [
    {
     "data": {
      "image/png": "[encoded data removed]",
      "text/plain": [
       "<matplotlib.figure.Figure at 0x7ff534512390>"
      ]
     },
     "metadata": {},
     "output_type": "display_data"
    },
    {
     "data": {
      "image/png": "[encoded data removed]",
      "text/plain": [
       "<matplotlib.figure.Figure at 0x7ff4e90240b8>"
      ]
     },
     "metadata": {},
     "output_type": "display_data"
    }
   ],
   "source": [
    "plt.plot(losses)\n",
    "plt.show()\n",
    "plt.plot(np.arange(len(valid_losses)) * 1, valid_losses)\n",
    "plt.show()"
   ]
  },
  {
   "cell_type": "code",
   "execution_count": null,
   "metadata": {
    "collapsed": true
   },
   "outputs": [],
   "source": []
  }
 ],
 "metadata": {
  "kernelspec": {
   "display_name": "Python 3",
   "language": "python",
   "name": "python3"
  },
  "language_info": {
   "codemirror_mode": {
    "name": "ipython",
    "version": 3
   },
   "file_extension": ".py",
   "mimetype": "text/x-python",
   "name": "python",
   "nbconvert_exporter": "python",
   "pygments_lexer": "ipython3",
   "version": "3.5.1"
  }
 },
 "nbformat": 4,
 "nbformat_minor": 0
}
